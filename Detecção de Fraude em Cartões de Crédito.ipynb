{
  "nbformat": 4,
  "nbformat_minor": 0,
  "metadata": {
    "colab": {
      "provenance": [],
      "authorship_tag": "ABX9TyPl924V+SrI01dklqTumMQm",
      "include_colab_link": true
    },
    "kernelspec": {
      "name": "python3",
      "display_name": "Python 3"
    },
    "language_info": {
      "name": "python"
    }
  },
  "cells": [
    {
      "cell_type": "markdown",
      "metadata": {
        "id": "view-in-github",
        "colab_type": "text"
      },
      "source": [
        "<a href=\"https://colab.research.google.com/github/GHSMoura/Fraude-em-cartoes-de-credito-/blob/main/Detec%C3%A7%C3%A3o%20de%20Fraude%20em%20Cart%C3%B5es%20de%20Cr%C3%A9dito.ipynb\" target=\"_parent\"><img src=\"https://colab.research.google.com/assets/colab-badge.svg\" alt=\"Open In Colab\"/></a>"
      ]
    },
    {
      "cell_type": "markdown",
      "source": [
        "PROJETO 1 - Detecção de fraude de cartão de crédito"
      ],
      "metadata": {
        "id": "oXiK0CF8Ho9r"
      }
    },
    {
      "cell_type": "code",
      "execution_count": null,
      "metadata": {
        "colab": {
          "base_uri": "https://localhost:8080/"
        },
        "id": "yekXAsE0_fyE",
        "outputId": "ce622477-c1c9-4994-fe4f-e64b045922ce"
      },
      "outputs": [
        {
          "output_type": "stream",
          "name": "stdout",
          "text": [
            "Downloading from https://www.kaggle.com/api/v1/datasets/download/mos3santos/deteco-de-fraude-de-carto-de-crdito?dataset_version_number=1...\n"
          ]
        },
        {
          "output_type": "stream",
          "name": "stderr",
          "text": [
            "100%|██████████| 66.0M/66.0M [00:02<00:00, 29.8MB/s]"
          ]
        },
        {
          "output_type": "stream",
          "name": "stdout",
          "text": [
            "Extracting files...\n"
          ]
        },
        {
          "output_type": "stream",
          "name": "stderr",
          "text": [
            "\n"
          ]
        },
        {
          "output_type": "stream",
          "name": "stdout",
          "text": [
            "Path to dataset files: /root/.cache/kagglehub/datasets/mos3santos/deteco-de-fraude-de-carto-de-crdito/versions/1\n",
            "Class\n",
            "0    284315\n",
            "1       492\n",
            "Name: count, dtype: int64\n",
            "Class\n",
            "0    284315\n",
            "1    284315\n",
            "Name: count, dtype: int64\n"
          ]
        }
      ],
      "source": [
        "import kagglehub\n",
        "import pandas as pd\n",
        "from sklearn.utils import resample\n",
        "from sklearn.pipeline import Pipeline\n",
        "from sklearn.model_selection import train_test_split\n",
        "from sklearn.preprocessing import StandardScaler\n",
        "from sklearn.ensemble import RandomForestClassifier\n",
        "from xgboost import XGBClassifier\n",
        "from sklearn.neural_network import MLPClassifier\n",
        "from sklearn.metrics import accuracy_score, precision_score, recall_score, f1_score, classification_report\n",
        "\n",
        "# Baixar dataset do Kaggle\n",
        "path = kagglehub.dataset_download(\"mos3santos/deteco-de-fraude-de-carto-de-crdito\")\n",
        "print(\"Path to dataset files:\", path)\n",
        "\n",
        "# Carregar os dados\n",
        "df = pd.read_csv(f\"{path}/creditcard.csv\")\n",
        "\n",
        "# Ver distribuição da variável alvo\n",
        "print(df['Class'].value_counts())\n",
        "\n",
        "# Aplicar oversampling para equilibrar fraudes e transações legítimas\n",
        "df_majority = df[df.Class == 0]\n",
        "df_minority = df[df.Class == 1]\n",
        "\n",
        "df_minority_upsampled = resample(df_minority, replace=True, n_samples=len(df_majority), random_state=42)\n",
        "df_balanced = pd.concat([df_majority, df_minority_upsampled])\n",
        "\n",
        "print(df_balanced['Class'].value_counts())  # Agora está balanceado\n",
        "\n",
        "# **Selecionar uma amostra dos dados**\n",
        "df_sampled = df_balanced.sample(frac=0.1, random_state=42)  # Pegamos apenas 10% dos dados\n",
        "\n",
        "# Normalizar valores numéricos\n",
        "scaler = StandardScaler()\n",
        "df_sampled['Amount'] = scaler.fit_transform(df_sampled[['Amount']])\n"
      ]
    },
    {
      "cell_type": "markdown",
      "source": [
        "Divisão de treino e texte\n"
      ],
      "metadata": {
        "id": "ouVtqu5jDJie"
      }
    },
    {
      "cell_type": "code",
      "source": [
        "# Definir X e y com os dados amostrados\n",
        "X = df_sampled.drop(columns=['Class'])  # Features\n",
        "y = df_sampled['Class']  # Target\n",
        "\n",
        "# Divisão do conjunto de dados\n",
        "X_train, X_test, y_train, y_test = train_test_split(X, y, test_size=0.2, random_state=42)"
      ],
      "metadata": {
        "id": "FYSvGPk9CcHJ"
      },
      "execution_count": null,
      "outputs": []
    },
    {
      "cell_type": "markdown",
      "source": [
        "Construção do Pipeline de Machine Learnin"
      ],
      "metadata": {
        "id": "u4eRhSeM2O9L"
      }
    },
    {
      "cell_type": "code",
      "source": [
        "# Definir modelos ajustados com regularização\n",
        "models = {\n",
        "    \"Random Forest\": RandomForestClassifier(n_estimators=50, max_depth=10, min_samples_split=5,\n",
        "                                            n_jobs=-1, random_state=42),\n",
        "    \"XGBoost\": XGBClassifier(n_estimators=50, max_depth=6, learning_rate=0.1, reg_lambda=1.5,\n",
        "                             reg_alpha=0.8, n_jobs=-1, random_state=42),\n",
        "    \"Rede Neural\": MLPClassifier(hidden_layer_sizes=(30, 30), max_iter=300, alpha=0.05,\n",
        "                                 solver='adam', learning_rate_init=0.001, random_state=42)\n",
        "}\n",
        "\n",
        "# Criar pipeline para normalizar e treinar os modelos\n",
        "def create_pipeline(model):\n",
        "    return Pipeline([\n",
        "        ('scaler', StandardScaler()),  # Normalização dos dados\n",
        "        ('classifier', model)  # Modelo de aprendizado\n",
        "    ])"
      ],
      "metadata": {
        "id": "tDInQFG0Cm-L"
      },
      "execution_count": null,
      "outputs": []
    },
    {
      "cell_type": "markdown",
      "source": [
        "Cálculo das Métricas de Desempenho"
      ],
      "metadata": {
        "id": "FY_oLK2iDBC9"
      }
    },
    {
      "cell_type": "code",
      "source": [
        "metrics_results = {}\n",
        "\n",
        "# Avaliação dos modelos\n",
        "for name, model in models.items():\n",
        "    pipeline = create_pipeline(model)\n",
        "\n",
        "    # Treinar modelo\n",
        "    pipeline.fit(X_train, y_train)\n",
        "\n",
        "    # Prever no conjunto de teste\n",
        "    y_pred = pipeline.predict(X_test)\n",
        "\n",
        "    # Cálculo das métricas\n",
        "    accuracy = accuracy_score(y_test, y_pred)\n",
        "    precision = precision_score(y_test, y_pred)\n",
        "    recall = recall_score(y_test, y_pred)\n",
        "    f1 = f1_score(y_test, y_pred)\n",
        "\n",
        "    # Armazena os resultados\n",
        "    metrics_results[name] = {\n",
        "        \"Acurácia\": accuracy,\n",
        "        \"Precisão\": precision,\n",
        "        \"Recall\": recall,\n",
        "        \"F1-score\": f1\n",
        "    }\n",
        "\n",
        "    # Exibir resultados\n",
        "    print(f\"\\n🔹 {name} - Métricas de Desempenho\")\n",
        "    print(f\"Acurácia: {accuracy:.2f}\")\n",
        "    print(f\"Precisão: {precision:.2f}\")\n",
        "    print(f\"Recall: {recall:.2f}\")\n",
        "    print(f\"F1-score: {f1:.2f}\")"
      ],
      "metadata": {
        "id": "dvhUIfIxCpQ7",
        "colab": {
          "base_uri": "https://localhost:8080/"
        },
        "outputId": "49388cad-ca8c-4026-f6cb-0cd1ded27ada"
      },
      "execution_count": null,
      "outputs": [
        {
          "output_type": "stream",
          "name": "stdout",
          "text": [
            "\n",
            "🔹 Random Forest - Métricas de Desempenho\n",
            "Acurácia: 0.99\n",
            "Precisão: 1.00\n",
            "Recall: 0.98\n",
            "F1-score: 0.99\n",
            "\n",
            "🔹 XGBoost - Métricas de Desempenho\n",
            "Acurácia: 1.00\n",
            "Precisão: 1.00\n",
            "Recall: 1.00\n",
            "F1-score: 1.00\n",
            "\n",
            "🔹 Rede Neural - Métricas de Desempenho\n",
            "Acurácia: 1.00\n",
            "Precisão: 1.00\n",
            "Recall: 1.00\n",
            "F1-score: 1.00\n"
          ]
        }
      ]
    },
    {
      "cell_type": "markdown",
      "source": [
        "Teste em Dados Reais (Sem Balanceamento)"
      ],
      "metadata": {
        "id": "bpQHg7qrC2c-"
      }
    },
    {
      "cell_type": "code",
      "source": [
        "# Testar modelos com dados reais\n",
        "for name, model in models.items():\n",
        "    pipeline = create_pipeline(model)\n",
        "\n",
        "    # Treinar modelo nos dados reais (sem balanceamento)\n",
        "    pipeline.fit(df.drop(columns=['Class']), df['Class'])\n",
        "\n",
        "    # Prever no conjunto de teste real\n",
        "    y_pred_real = pipeline.predict(X_test)\n",
        "\n",
        "    # Avaliar desempenho nos dados reais\n",
        "    print(f\"\\n🔹 {name} - Acurácia em Dados Reais: {accuracy_score(y_test, y_pred_real):.2f}\")\n",
        "    print(f\"Relatório de Classificação - {name}:\\n\", classification_report(y_test, y_pred_real))"
      ],
      "metadata": {
        "id": "RSVsGW9jCsbz",
        "colab": {
          "base_uri": "https://localhost:8080/"
        },
        "outputId": "e60a2150-3818-4c81-bd4b-c667f321a2bf"
      },
      "execution_count": null,
      "outputs": [
        {
          "output_type": "stream",
          "name": "stdout",
          "text": [
            "\n",
            "🔹 Random Forest - Acurácia em Dados Reais: 0.91\n",
            "Relatório de Classificação - Random Forest:\n",
            "               precision    recall  f1-score   support\n",
            "\n",
            "           0       0.85      1.00      0.92      5673\n",
            "           1       1.00      0.83      0.91      5700\n",
            "\n",
            "    accuracy                           0.91     11373\n",
            "   macro avg       0.93      0.91      0.91     11373\n",
            "weighted avg       0.93      0.91      0.91     11373\n",
            "\n",
            "\n",
            "🔹 XGBoost - Acurácia em Dados Reais: 0.92\n",
            "Relatório de Classificação - XGBoost:\n",
            "               precision    recall  f1-score   support\n",
            "\n",
            "           0       0.86      1.00      0.93      5673\n",
            "           1       1.00      0.84      0.91      5700\n",
            "\n",
            "    accuracy                           0.92     11373\n",
            "   macro avg       0.93      0.92      0.92     11373\n",
            "weighted avg       0.93      0.92      0.92     11373\n",
            "\n",
            "\n",
            "🔹 Rede Neural - Acurácia em Dados Reais: 0.90\n",
            "Relatório de Classificação - Rede Neural:\n",
            "               precision    recall  f1-score   support\n",
            "\n",
            "           0       0.83      1.00      0.91      5673\n",
            "           1       1.00      0.80      0.89      5700\n",
            "\n",
            "    accuracy                           0.90     11373\n",
            "   macro avg       0.91      0.90      0.90     11373\n",
            "weighted avg       0.92      0.90      0.90     11373\n",
            "\n"
          ]
        }
      ]
    },
    {
      "cell_type": "markdown",
      "source": [
        "Análise de Importância das Features"
      ],
      "metadata": {
        "id": "ggQe-2Kw-fjA"
      }
    },
    {
      "cell_type": "code",
      "source": [
        "# Aplicar seleção de features com RFECV\n",
        "from sklearn.feature_selection import RFECV\n",
        "from sklearn.ensemble import RandomForestClassifier\n",
        "\n",
        "# Criar modelo inicial para seleção de features\n",
        "rf = RandomForestClassifier(n_estimators=50, random_state=42, n_jobs=-1)\n",
        "selector = RFECV(rf, step=1, cv=5)\n",
        "selector.fit(X_train, y_train)\n",
        "\n",
        "# Definir features selecionadas corretamente\n",
        "selected_features = X_train.columns[selector.support_]\n",
        "X_train_selected = X_train[selected_features]\n",
        "X_test_selected = X_test[selected_features]\n",
        "\n",
        "print(\"Features selecionadas:\", selected_features)"
      ],
      "metadata": {
        "colab": {
          "base_uri": "https://localhost:8080/"
        },
        "id": "rGPFQigNDllz",
        "outputId": "8e53983e-7a2c-4692-88d9-5a3c98620bc0"
      },
      "execution_count": null,
      "outputs": [
        {
          "output_type": "stream",
          "name": "stdout",
          "text": [
            "Features selecionadas: Index(['V3', 'V4', 'V7', 'V8', 'V10', 'V11', 'V12', 'V13', 'V14', 'V16', 'V17',\n",
            "       'V19', 'V20', 'Amount'],\n",
            "      dtype='object')\n"
          ]
        }
      ]
    },
    {
      "cell_type": "code",
      "source": [
        "import matplotlib.pyplot as plt\n",
        "\n",
        "# Obter importância das features do modelo treinado\n",
        "rf.fit(X_train_selected, y_train)  # Treinar modelo antes de obter importância\n",
        "feature_importances = rf.feature_importances_\n",
        "sorted_idx = feature_importances.argsort()\n",
        "\n",
        "plt.figure(figsize=(10,6))\n",
        "plt.barh(X_train_selected.columns[sorted_idx], feature_importances[sorted_idx])\n",
        "plt.xlabel(\"Importância da Feature\")\n",
        "plt.title(\"Importância das Variáveis - Random Forest\")\n",
        "plt.show()"
      ],
      "metadata": {
        "colab": {
          "base_uri": "https://localhost:8080/",
          "height": 565
        },
        "id": "vALb1snGCKmV",
        "outputId": "ec2865c2-388f-470d-a794-935545a58809"
      },
      "execution_count": null,
      "outputs": [
        {
          "output_type": "display_data",
          "data": {
            "text/plain": [
              "<Figure size 1000x600 with 1 Axes>"
            ],
            "image/png": "[encoded data removed]"
          },
          "metadata": {}
        }
      ]
    },
    {
      "cell_type": "markdown",
      "source": [
        "Testando Diferentes Técnicas de Balanceamento (SMOTE)"
      ],
      "metadata": {
        "id": "m977vfVQD5D-"
      }
    },
    {
      "cell_type": "code",
      "source": [
        "from imblearn.over_sampling import SMOTE\n",
        "\n",
        "# Aplicação do SMOTE para gerar amostras sintéticas de fraudes\n",
        "smote = SMOTE(sampling_strategy=0.3, random_state=42)  # Ajuste leve no oversampling\n",
        "X_resampled, y_resampled = smote.fit_resample(df.drop(columns=['Class']), df['Class'])\n",
        "\n",
        "# Redivisão dos dados após o balanceamento\n",
        "X_train, X_test, y_train, y_test = train_test_split(X_resampled, y_resampled, test_size=0.2, random_state=42)"
      ],
      "metadata": {
        "id": "fGQdO_ClDYRF"
      },
      "execution_count": null,
      "outputs": []
    },
    {
      "cell_type": "markdown",
      "source": [
        "Explorando Arquiteturas Mais Profundas para Redes Neurais (Dropout)"
      ],
      "metadata": {
        "id": "IiUEODB2D3sw"
      }
    },
    {
      "cell_type": "code",
      "source": [
        "from keras.models import Sequential\n",
        "from keras.layers import Dense, Dropout\n",
        "\n",
        "# Criando uma arquitetura mais profunda com Dropout\n",
        "deep_nn = Sequential([\n",
        "    Dense(128, activation='relu', input_shape=(X_train.shape[1],)),\n",
        "    Dropout(0.3),  # Dropout para evitar overfitting\n",
        "    Dense(64, activation='relu'),\n",
        "    Dropout(0.3),\n",
        "    Dense(32, activation='relu'),\n",
        "    Dense(1, activation='sigmoid')  # Saída binária (fraude ou não)\n",
        "])\n",
        "\n",
        "# Compilação e treinamento do modelo\n",
        "deep_nn.compile(optimizer='adam', loss='binary_crossentropy', metrics=['accuracy'])\n",
        "deep_nn.fit(X_train, y_train, epochs=50, batch_size=32, validation_data=(X_test, y_test))"
      ],
      "metadata": {
        "colab": {
          "base_uri": "https://localhost:8080/"
        },
        "id": "hs8P5OrRDZ_K",
        "outputId": "3bcdef06-c987-46e4-a542-7c38b4820669"
      },
      "execution_count": null,
      "outputs": [
        {
          "output_type": "stream",
          "name": "stderr",
          "text": [
            "/usr/local/lib/python3.11/dist-packages/keras/src/layers/core/dense.py:87: UserWarning: Do not pass an `input_shape`/`input_dim` argument to a layer. When using Sequential models, prefer using an `Input(shape)` object as the first layer in the model instead.\n",
            "  super().__init__(activity_regularizer=activity_regularizer, **kwargs)\n"
          ]
        },
        {
          "output_type": "stream",
          "name": "stdout",
          "text": [
            "Epoch 1/50\n",
            "\u001b[1m9241/9241\u001b[0m \u001b[32m━━━━━━━━━━━━━━━━━━━━\u001b[0m\u001b[37m\u001b[0m \u001b[1m29s\u001b[0m 3ms/step - accuracy: 0.6909 - loss: 89.3975 - val_accuracy: 0.7699 - val_loss: 0.5394\n",
            "Epoch 2/50\n",
            "\u001b[1m9241/9241\u001b[0m \u001b[32m━━━━━━━━━━━━━━━━━━━━\u001b[0m\u001b[37m\u001b[0m \u001b[1m28s\u001b[0m 3ms/step - accuracy: 0.7695 - loss: 0.5499 - val_accuracy: 0.7699 - val_loss: 0.5394\n",
            "Epoch 3/50\n",
            "\u001b[1m9241/9241\u001b[0m \u001b[32m━━━━━━━━━━━━━━━━━━━━\u001b[0m\u001b[37m\u001b[0m \u001b[1m41s\u001b[0m 3ms/step - accuracy: 0.7690 - loss: 0.5444 - val_accuracy: 0.7699 - val_loss: 0.5397\n",
            "Epoch 4/50\n",
            "\u001b[1m9241/9241\u001b[0m \u001b[32m━━━━━━━━━━━━━━━━━━━━\u001b[0m\u001b[37m\u001b[0m \u001b[1m40s\u001b[0m 3ms/step - accuracy: 0.7695 - loss: 0.5457 - val_accuracy: 0.7699 - val_loss: 0.5394\n",
            "Epoch 5/50\n",
            "\u001b[1m9241/9241\u001b[0m \u001b[32m━━━━━━━━━━━━━━━━━━━━\u001b[0m\u001b[37m\u001b[0m \u001b[1m30s\u001b[0m 3ms/step - accuracy: 0.7690 - loss: 0.5428 - val_accuracy: 0.7699 - val_loss: 0.5393\n",
            "Epoch 6/50\n",
            "\u001b[1m9241/9241\u001b[0m \u001b[32m━━━━━━━━━━━━━━━━━━━━\u001b[0m\u001b[37m\u001b[0m \u001b[1m28s\u001b[0m 3ms/step - accuracy: 0.7698 - loss: 0.5429 - val_accuracy: 0.7699 - val_loss: 0.5394\n",
            "Epoch 7/50\n",
            "\u001b[1m9241/9241\u001b[0m \u001b[32m━━━━━━━━━━━━━━━━━━━━\u001b[0m\u001b[37m\u001b[0m \u001b[1m27s\u001b[0m 3ms/step - accuracy: 0.7695 - loss: 0.5413 - val_accuracy: 0.7699 - val_loss: 0.5394\n",
            "Epoch 8/50\n",
            "\u001b[1m9241/9241\u001b[0m \u001b[32m━━━━━━━━━━━━━━━━━━━━\u001b[0m\u001b[37m\u001b[0m \u001b[1m26s\u001b[0m 3ms/step - accuracy: 0.7681 - loss: 0.5443 - val_accuracy: 0.7699 - val_loss: 0.5394\n",
            "Epoch 9/50\n",
            "\u001b[1m9241/9241\u001b[0m \u001b[32m━━━━━━━━━━━━━━━━━━━━\u001b[0m\u001b[37m\u001b[0m \u001b[1m26s\u001b[0m 3ms/step - accuracy: 0.7691 - loss: 0.5423 - val_accuracy: 0.7699 - val_loss: 0.5394\n",
            "Epoch 10/50\n",
            "\u001b[1m9241/9241\u001b[0m \u001b[32m━━━━━━━━━━━━━━━━━━━━\u001b[0m\u001b[37m\u001b[0m \u001b[1m27s\u001b[0m 3ms/step - accuracy: 0.7678 - loss: 0.5432 - val_accuracy: 0.7699 - val_loss: 0.5394\n",
            "Epoch 11/50\n",
            "\u001b[1m9241/9241\u001b[0m \u001b[32m━━━━━━━━━━━━━━━━━━━━\u001b[0m\u001b[37m\u001b[0m \u001b[1m42s\u001b[0m 3ms/step - accuracy: 0.7688 - loss: 0.5415 - val_accuracy: 0.7699 - val_loss: 0.5394\n",
            "Epoch 12/50\n",
            "\u001b[1m9241/9241\u001b[0m \u001b[32m━━━━━━━━━━━━━━━━━━━━\u001b[0m\u001b[37m\u001b[0m \u001b[1m28s\u001b[0m 3ms/step - accuracy: 0.7686 - loss: 0.5456 - val_accuracy: 0.7699 - val_loss: 0.5393\n",
            "Epoch 13/50\n",
            "\u001b[1m9241/9241\u001b[0m \u001b[32m━━━━━━━━━━━━━━━━━━━━\u001b[0m\u001b[37m\u001b[0m \u001b[1m26s\u001b[0m 3ms/step - accuracy: 0.7695 - loss: 0.5418 - val_accuracy: 0.7699 - val_loss: 0.5394\n",
            "Epoch 14/50\n",
            "\u001b[1m9241/9241\u001b[0m \u001b[32m━━━━━━━━━━━━━━━━━━━━\u001b[0m\u001b[37m\u001b[0m \u001b[1m26s\u001b[0m 3ms/step - accuracy: 0.7696 - loss: 0.5421 - val_accuracy: 0.7699 - val_loss: 0.5393\n",
            "Epoch 15/50\n",
            "\u001b[1m9241/9241\u001b[0m \u001b[32m━━━━━━━━━━━━━━━━━━━━\u001b[0m\u001b[37m\u001b[0m \u001b[1m28s\u001b[0m 3ms/step - accuracy: 0.7702 - loss: 0.5424 - val_accuracy: 0.7699 - val_loss: 0.5393\n",
            "Epoch 16/50\n",
            "\u001b[1m9241/9241\u001b[0m \u001b[32m━━━━━━━━━━━━━━━━━━━━\u001b[0m\u001b[37m\u001b[0m \u001b[1m27s\u001b[0m 3ms/step - accuracy: 0.7697 - loss: 0.5419 - val_accuracy: 0.7699 - val_loss: 0.5394\n",
            "Epoch 17/50\n",
            "\u001b[1m9241/9241\u001b[0m \u001b[32m━━━━━━━━━━━━━━━━━━━━\u001b[0m\u001b[37m\u001b[0m \u001b[1m39s\u001b[0m 3ms/step - accuracy: 0.7699 - loss: 0.5418 - val_accuracy: 0.7699 - val_loss: 0.5394\n",
            "Epoch 18/50\n",
            "\u001b[1m9241/9241\u001b[0m \u001b[32m━━━━━━━━━━━━━━━━━━━━\u001b[0m\u001b[37m\u001b[0m \u001b[1m26s\u001b[0m 3ms/step - accuracy: 0.7692 - loss: 0.5413 - val_accuracy: 0.7699 - val_loss: 0.5394\n",
            "Epoch 19/50\n",
            "\u001b[1m9241/9241\u001b[0m \u001b[32m━━━━━━━━━━━━━━━━━━━━\u001b[0m\u001b[37m\u001b[0m \u001b[1m27s\u001b[0m 3ms/step - accuracy: 0.7682 - loss: 0.5424 - val_accuracy: 0.7699 - val_loss: 0.5393\n",
            "Epoch 20/50\n",
            "\u001b[1m9241/9241\u001b[0m \u001b[32m━━━━━━━━━━━━━━━━━━━━\u001b[0m\u001b[37m\u001b[0m \u001b[1m28s\u001b[0m 3ms/step - accuracy: 0.7687 - loss: 0.5434 - val_accuracy: 0.7699 - val_loss: 0.5394\n",
            "Epoch 21/50\n",
            "\u001b[1m9241/9241\u001b[0m \u001b[32m━━━━━━━━━━━━━━━━━━━━\u001b[0m\u001b[37m\u001b[0m \u001b[1m41s\u001b[0m 3ms/step - accuracy: 0.7698 - loss: 0.5403 - val_accuracy: 0.7699 - val_loss: 0.5393\n",
            "Epoch 22/50\n",
            "\u001b[1m9241/9241\u001b[0m \u001b[32m━━━━━━━━━━━━━━━━━━━━\u001b[0m\u001b[37m\u001b[0m \u001b[1m40s\u001b[0m 3ms/step - accuracy: 0.7701 - loss: 0.5424 - val_accuracy: 0.7699 - val_loss: 0.5394\n",
            "Epoch 23/50\n",
            "\u001b[1m9241/9241\u001b[0m \u001b[32m━━━━━━━━━━━━━━━━━━━━\u001b[0m\u001b[37m\u001b[0m \u001b[1m26s\u001b[0m 3ms/step - accuracy: 0.7677 - loss: 0.5442 - val_accuracy: 0.7699 - val_loss: 0.5393\n",
            "Epoch 24/50\n",
            "\u001b[1m9241/9241\u001b[0m \u001b[32m━━━━━━━━━━━━━━━━━━━━\u001b[0m\u001b[37m\u001b[0m \u001b[1m27s\u001b[0m 3ms/step - accuracy: 0.7697 - loss: 0.5429 - val_accuracy: 0.7699 - val_loss: 0.5393\n",
            "Epoch 25/50\n",
            "\u001b[1m9241/9241\u001b[0m \u001b[32m━━━━━━━━━━━━━━━━━━━━\u001b[0m\u001b[37m\u001b[0m \u001b[1m43s\u001b[0m 3ms/step - accuracy: 0.7686 - loss: 0.5414 - val_accuracy: 0.7699 - val_loss: 0.5393\n",
            "Epoch 26/50\n",
            "\u001b[1m9241/9241\u001b[0m \u001b[32m━━━━━━━━━━━━━━━━━━━━\u001b[0m\u001b[37m\u001b[0m \u001b[1m26s\u001b[0m 3ms/step - accuracy: 0.7698 - loss: 0.5414 - val_accuracy: 0.7697 - val_loss: 0.5396\n",
            "Epoch 27/50\n",
            "\u001b[1m9241/9241\u001b[0m \u001b[32m━━━━━━━━━━━━━━━━━━━━\u001b[0m\u001b[37m\u001b[0m \u001b[1m28s\u001b[0m 3ms/step - accuracy: 0.7689 - loss: 0.5408 - val_accuracy: 0.7699 - val_loss: 0.5393\n",
            "Epoch 28/50\n",
            "\u001b[1m9241/9241\u001b[0m \u001b[32m━━━━━━━━━━━━━━━━━━━━\u001b[0m\u001b[37m\u001b[0m \u001b[1m41s\u001b[0m 3ms/step - accuracy: 0.7690 - loss: 0.5466 - val_accuracy: 0.7699 - val_loss: 0.5393\n",
            "Epoch 29/50\n",
            "\u001b[1m9241/9241\u001b[0m \u001b[32m━━━━━━━━━━━━━━━━━━━━\u001b[0m\u001b[37m\u001b[0m \u001b[1m40s\u001b[0m 3ms/step - accuracy: 0.7688 - loss: 0.5432 - val_accuracy: 0.7699 - val_loss: 0.5392\n",
            "Epoch 30/50\n",
            "\u001b[1m9241/9241\u001b[0m \u001b[32m━━━━━━━━━━━━━━━━━━━━\u001b[0m\u001b[37m\u001b[0m \u001b[1m42s\u001b[0m 3ms/step - accuracy: 0.7695 - loss: 0.5473 - val_accuracy: 0.7699 - val_loss: 0.5392\n",
            "Epoch 31/50\n",
            "\u001b[1m9241/9241\u001b[0m \u001b[32m━━━━━━━━━━━━━━━━━━━━\u001b[0m\u001b[37m\u001b[0m \u001b[1m28s\u001b[0m 3ms/step - accuracy: 0.7702 - loss: 0.5422 - val_accuracy: 0.7699 - val_loss: 0.5393\n",
            "Epoch 32/50\n",
            "\u001b[1m9241/9241\u001b[0m \u001b[32m━━━━━━━━━━━━━━━━━━━━\u001b[0m\u001b[37m\u001b[0m \u001b[1m28s\u001b[0m 3ms/step - accuracy: 0.7691 - loss: 0.5422 - val_accuracy: 0.7699 - val_loss: 0.5394\n",
            "Epoch 33/50\n",
            "\u001b[1m9241/9241\u001b[0m \u001b[32m━━━━━━━━━━━━━━━━━━━━\u001b[0m\u001b[37m\u001b[0m \u001b[1m26s\u001b[0m 3ms/step - accuracy: 0.7681 - loss: 0.5429 - val_accuracy: 0.7699 - val_loss: 0.5392\n",
            "Epoch 34/50\n",
            "\u001b[1m9241/9241\u001b[0m \u001b[32m━━━━━━━━━━━━━━━━━━━━\u001b[0m\u001b[37m\u001b[0m \u001b[1m26s\u001b[0m 3ms/step - accuracy: 0.7699 - loss: 0.5424 - val_accuracy: 0.7699 - val_loss: 0.5392\n",
            "Epoch 35/50\n",
            "\u001b[1m9241/9241\u001b[0m \u001b[32m━━━━━━━━━━━━━━━━━━━━\u001b[0m\u001b[37m\u001b[0m \u001b[1m42s\u001b[0m 3ms/step - accuracy: 0.7679 - loss: 0.5458 - val_accuracy: 0.7698 - val_loss: 0.5396\n",
            "Epoch 36/50\n",
            "\u001b[1m9241/9241\u001b[0m \u001b[32m━━━━━━━━━━━━━━━━━━━━\u001b[0m\u001b[37m\u001b[0m \u001b[1m40s\u001b[0m 3ms/step - accuracy: 0.7684 - loss: 0.5432 - val_accuracy: 0.7699 - val_loss: 0.5392\n",
            "Epoch 37/50\n",
            "\u001b[1m9241/9241\u001b[0m \u001b[32m━━━━━━━━━━━━━━━━━━━━\u001b[0m\u001b[37m\u001b[0m \u001b[1m43s\u001b[0m 3ms/step - accuracy: 0.7687 - loss: 0.5461 - val_accuracy: 0.7699 - val_loss: 0.5392\n",
            "Epoch 38/50\n",
            "\u001b[1m9241/9241\u001b[0m \u001b[32m━━━━━━━━━━━━━━━━━━━━\u001b[0m\u001b[37m\u001b[0m \u001b[1m40s\u001b[0m 3ms/step - accuracy: 0.7693 - loss: 0.5443 - val_accuracy: 0.7699 - val_loss: 0.5392\n",
            "Epoch 39/50\n",
            "\u001b[1m9241/9241\u001b[0m \u001b[32m━━━━━━━━━━━━━━━━━━━━\u001b[0m\u001b[37m\u001b[0m \u001b[1m26s\u001b[0m 3ms/step - accuracy: 0.7687 - loss: 0.5418 - val_accuracy: 0.7699 - val_loss: 0.5392\n",
            "Epoch 40/50\n",
            "\u001b[1m9241/9241\u001b[0m \u001b[32m━━━━━━━━━━━━━━━━━━━━\u001b[0m\u001b[37m\u001b[0m \u001b[1m26s\u001b[0m 3ms/step - accuracy: 0.7696 - loss: 0.5425 - val_accuracy: 0.7699 - val_loss: 0.5393\n",
            "Epoch 41/50\n",
            "\u001b[1m9241/9241\u001b[0m \u001b[32m━━━━━━━━━━━━━━━━━━━━\u001b[0m\u001b[37m\u001b[0m \u001b[1m26s\u001b[0m 3ms/step - accuracy: 0.7694 - loss: 0.5427 - val_accuracy: 0.7696 - val_loss: 0.5398\n",
            "Epoch 42/50\n",
            "\u001b[1m9241/9241\u001b[0m \u001b[32m━━━━━━━━━━━━━━━━━━━━\u001b[0m\u001b[37m\u001b[0m \u001b[1m42s\u001b[0m 3ms/step - accuracy: 0.7699 - loss: 0.5420 - val_accuracy: 0.7699 - val_loss: 0.5392\n",
            "Epoch 43/50\n",
            "\u001b[1m9241/9241\u001b[0m \u001b[32m━━━━━━━━━━━━━━━━━━━━\u001b[0m\u001b[37m\u001b[0m \u001b[1m39s\u001b[0m 3ms/step - accuracy: 0.7685 - loss: 0.5424 - val_accuracy: 0.7699 - val_loss: 0.5391\n",
            "Epoch 44/50\n",
            "\u001b[1m9241/9241\u001b[0m \u001b[32m━━━━━━━━━━━━━━━━━━━━\u001b[0m\u001b[37m\u001b[0m \u001b[1m42s\u001b[0m 3ms/step - accuracy: 0.7679 - loss: 0.5433 - val_accuracy: 0.7699 - val_loss: 0.5391\n",
            "Epoch 45/50\n",
            "\u001b[1m9241/9241\u001b[0m \u001b[32m━━━━━━━━━━━━━━━━━━━━\u001b[0m\u001b[37m\u001b[0m \u001b[1m27s\u001b[0m 3ms/step - accuracy: 0.7686 - loss: 0.5420 - val_accuracy: 0.7699 - val_loss: 0.5391\n",
            "Epoch 46/50\n",
            "\u001b[1m9241/9241\u001b[0m \u001b[32m━━━━━━━━━━━━━━━━━━━━\u001b[0m\u001b[37m\u001b[0m \u001b[1m39s\u001b[0m 3ms/step - accuracy: 0.7690 - loss: 0.5422 - val_accuracy: 0.7699 - val_loss: 0.5394\n",
            "Epoch 47/50\n",
            "\u001b[1m9241/9241\u001b[0m \u001b[32m━━━━━━━━━━━━━━━━━━━━\u001b[0m\u001b[37m\u001b[0m \u001b[1m26s\u001b[0m 3ms/step - accuracy: 0.7698 - loss: 0.5421 - val_accuracy: 0.7699 - val_loss: 0.5391\n",
            "Epoch 48/50\n",
            "\u001b[1m9241/9241\u001b[0m \u001b[32m━━━━━━━━━━━━━━━━━━━━\u001b[0m\u001b[37m\u001b[0m \u001b[1m41s\u001b[0m 3ms/step - accuracy: 0.7704 - loss: 0.5412 - val_accuracy: 0.7699 - val_loss: 0.5394\n",
            "Epoch 49/50\n",
            "\u001b[1m9241/9241\u001b[0m \u001b[32m━━━━━━━━━━━━━━━━━━━━\u001b[0m\u001b[37m\u001b[0m \u001b[1m28s\u001b[0m 3ms/step - accuracy: 0.7681 - loss: 0.5418 - val_accuracy: 0.7699 - val_loss: 0.5394\n",
            "Epoch 50/50\n",
            "\u001b[1m9241/9241\u001b[0m \u001b[32m━━━━━━━━━━━━━━━━━━━━\u001b[0m\u001b[37m\u001b[0m \u001b[1m26s\u001b[0m 3ms/step - accuracy: 0.7698 - loss: 0.5396 - val_accuracy: 0.7699 - val_loss: 0.5395\n"
          ]
        },
        {
          "output_type": "execute_result",
          "data": {
            "text/plain": [
              "<keras.src.callbacks.history.History at 0x7f5f45d96710>"
            ]
          },
          "metadata": {},
          "execution_count": 10
        }
      ]
    },
    {
      "cell_type": "markdown",
      "source": [
        "Implementando Estratégias Híbridas: Random Forest + XGBoost"
      ],
      "metadata": {
        "id": "vZiv8iS_D-Q5"
      }
    },
    {
      "cell_type": "code",
      "source": [
        "# Aplicar seleção de features corretamente\n",
        "selected_features = X_train.columns[selector.support_]  # Definir features selecionadas\n",
        "X_train_selected = X_train[selected_features].copy()\n",
        "X_test_selected = X_test[selected_features].copy()\n",
        "\n",
        "# Certificar-se de que os tamanhos de X_train_selected e y_train são consistentes\n",
        "print(f\"Shape de X_train_selected: {X_train_selected.shape}\")\n",
        "print(f\"Shape de y_train: {y_train.shape}\")\n",
        "\n",
        "# Ajustar caso exista desbalanceamento nos dados\n",
        "if X_train_selected.shape[0] != y_train.shape[0]:\n",
        "    X_train_selected = X_train_selected.iloc[:len(y_train)]\n",
        "\n",
        "# Criar o modelo híbrido\n",
        "hybrid_model = VotingClassifier(estimators=[\n",
        "    ('rf', RandomForestClassifier(n_estimators=50, random_state=42)),\n",
        "    ('xgb', XGBClassifier(n_estimators=50, learning_rate=0.1, random_state=42))\n",
        "], voting='soft')\n",
        "\n",
        "# Treinar o modelo híbrido\n",
        "hybrid_model.fit(X_train_selected, y_train)\n",
        "\n",
        "# Prever os resultados\n",
        "y_pred_hybrid = hybrid_model.predict(X_test_selected)\n",
        "\n",
        "# Avaliação do modelo híbrido\n",
        "accuracy_hybrid = accuracy_score(y_test, y_pred_hybrid)\n",
        "print(f\"\\n🔹 Modelo Híbrido (Random Forest + XGBoost) - Acurácia: {accuracy_hybrid:.2f}\")"
      ],
      "metadata": {
        "colab": {
          "base_uri": "https://localhost:8080/"
        },
        "id": "EdtWT8fcEB41",
        "outputId": "85b87c1f-f124-4be6-b5ab-e7a3c3b4f80f"
      },
      "execution_count": null,
      "outputs": [
        {
          "output_type": "stream",
          "name": "stdout",
          "text": [
            "Shape de X_train_selected: (295687, 14)\n",
            "Shape de y_train: (295687,)\n",
            "\n",
            "🔹 Modelo Híbrido (Random Forest + XGBoost) - Acurácia: 1.00\n"
          ]
        }
      ]
    },
    {
      "cell_type": "markdown",
      "source": [
        "Avaliação com Dados Reais e Desbalanceados"
      ],
      "metadata": {
        "id": "GnWephAWFeCY"
      }
    },
    {
      "cell_type": "code",
      "source": [
        "# Selecionar apenas as mesmas features usadas no treinamento\n",
        "df_selected = df[selected_features]  # Selecionando as mesmas variáveis do modelo treinado\n",
        "\n",
        "# Testar o modelo híbrido com dados reais (sem balanceamento)\n",
        "y_pred_real = hybrid_model.predict(df_selected)  # Previsão ajustada\n",
        "\n",
        "# Avaliar acurácia em dados reais\n",
        "accuracy_real = accuracy_score(df['Class'], y_pred_real)\n",
        "print(f\"\\n🔹 Modelo Híbrido - Acurácia em Dados Reais: {accuracy_real:.2f}\")\n",
        "print(f\"Relatório de Classificação:\\n\", classification_report(df['Class'], y_pred_real))"
      ],
      "metadata": {
        "colab": {
          "base_uri": "https://localhost:8080/"
        },
        "id": "vr6H9inuFdyQ",
        "outputId": "86116368-f73e-4db0-b308-16ee4c2d9afd"
      },
      "execution_count": null,
      "outputs": [
        {
          "output_type": "stream",
          "name": "stdout",
          "text": [
            "\n",
            "🔹 Modelo Híbrido - Acurácia em Dados Reais: 1.00\n",
            "Relatório de Classificação:\n",
            "               precision    recall  f1-score   support\n",
            "\n",
            "           0       1.00      1.00      1.00    284315\n",
            "           1       0.85      0.95      0.90       492\n",
            "\n",
            "    accuracy                           1.00    284807\n",
            "   macro avg       0.92      0.97      0.95    284807\n",
            "weighted avg       1.00      1.00      1.00    284807\n",
            "\n"
          ]
        }
      ]
    },
    {
      "cell_type": "markdown",
      "source": [
        "Avaliação de Overfitting\n"
      ],
      "metadata": {
        "id": "nU1_o2WKGDJq"
      }
    },
    {
      "cell_type": "code",
      "source": [
        "# Avaliação de overfitting\n",
        "train_acc = hybrid_model.score(X_train_selected, y_train)\n",
        "test_acc = hybrid_model.score(X_test_selected, y_test)\n",
        "\n",
        "print(f\"\\n🔹 Comparação de Acurácia\")\n",
        "print(f\"Acurácia no treino: {train_acc:.2f}\")\n",
        "print(f\"Acurácia no teste: {test_acc:.2f}\")"
      ],
      "metadata": {
        "colab": {
          "base_uri": "https://localhost:8080/"
        },
        "id": "s4EcuK0zGCis",
        "outputId": "0b969a61-d53a-4d00-e42a-d99609508c43"
      },
      "execution_count": null,
      "outputs": [
        {
          "output_type": "stream",
          "name": "stdout",
          "text": [
            "\n",
            "🔹 Comparação de Acurácia\n",
            "Acurácia no treino: 1.00\n",
            "Acurácia no teste: 1.00\n"
          ]
        }
      ]
    },
    {
      "cell_type": "markdown",
      "source": [
        "Curva ROC e AUC"
      ],
      "metadata": {
        "id": "Ho-xBRgHGNYd"
      }
    },
    {
      "cell_type": "code",
      "source": [
        "from sklearn.metrics import roc_curve, auc\n",
        "import matplotlib.pyplot as plt\n",
        "\n",
        "# Probabilidades do modelo para cálculo do AUC\n",
        "y_probs = hybrid_model.predict_proba(X_test_selected)[:, 1]  # Probabilidade da classe fraudulenta\n",
        "\n",
        "# Gerar curva ROC\n",
        "fpr, tpr, _ = roc_curve(y_test, y_probs)\n",
        "roc_auc = auc(fpr, tpr)\n",
        "\n",
        "# Plot da curva ROC\n",
        "plt.figure(figsize=(8,6))\n",
        "plt.plot(fpr, tpr, color='blue', label=f'Curva ROC (AUC = {roc_auc:.2f})')\n",
        "plt.plot([0, 1], [0, 1], color='gray', linestyle='--')\n",
        "plt.xlabel('Taxa de Falsos Positivos')\n",
        "plt.ylabel('Taxa de Verdadeiros Positivos')\n",
        "plt.title('Curva ROC - Modelo Híbrido')\n",
        "plt.legend(loc='lower right')\n",
        "plt.show()"
      ],
      "metadata": {
        "colab": {
          "base_uri": "https://localhost:8080/",
          "height": 564
        },
        "id": "RTiPbE3NGNNk",
        "outputId": "d87bed54-f4b7-4b36-ded3-5261b16891bc"
      },
      "execution_count": null,
      "outputs": [
        {
          "output_type": "display_data",
          "data": {
            "text/plain": [
              "<Figure size 800x600 with 1 Axes>"
            ],
            "image/png": "[encoded data removed]"
          },
          "metadata": {}
        }
      ]
    },
    {
      "cell_type": "markdown",
      "source": [
        "Análise de Sensibilidade ao Balanceamento"
      ],
      "metadata": {
        "id": "bBf5PTWWGZkN"
      }
    },
    {
      "cell_type": "code",
      "source": [
        "from imblearn.over_sampling import SMOTE\n",
        "\n",
        "# Testar diferentes proporções de oversampling\n",
        "for smote_ratio in [0.2, 0.5, 1.0]:\n",
        "    smote = SMOTE(sampling_strategy=smote_ratio, random_state=42)\n",
        "    X_resampled, y_resampled = smote.fit_resample(df.drop(columns=['Class']), df['Class'])\n",
        "\n",
        "    # Divisão dos dados\n",
        "    X_train, X_test, y_train, y_test = train_test_split(X_resampled, y_resampled, test_size=0.2, random_state=42)\n",
        "\n",
        "    # Treinar modelo e avaliar impacto do balanceamento\n",
        "    hybrid_model.fit(X_train, y_train)\n",
        "    accuracy_smote = hybrid_model.score(X_test, y_test)\n",
        "\n",
        "    print(f\"\\n🔹 SMOTE Ratio {smote_ratio} - Acurácia: {accuracy_smote:.2f}\")"
      ],
      "metadata": {
        "colab": {
          "base_uri": "https://localhost:8080/"
        },
        "id": "mblQFvv8Ggie",
        "outputId": "95f9a9f9-e39d-4f40-f36c-2e9d5bc659f5"
      },
      "execution_count": null,
      "outputs": [
        {
          "output_type": "stream",
          "name": "stdout",
          "text": [
            "\n",
            "🔹 SMOTE Ratio 0.2 - Acurácia: 1.00\n",
            "\n",
            "🔹 SMOTE Ratio 0.5 - Acurácia: 1.00\n",
            "\n",
            "🔹 SMOTE Ratio 1.0 - Acurácia: 1.00\n"
          ]
        }
      ]
    },
    {
      "cell_type": "markdown",
      "source": [
        "Análise Final do Trabalho - Detecção de Fraude em Cartões de Crédito\n",
        "🔍 Introdução\n",
        "Este estudo explorou diferentes abordagens de Machine Learning para detecção de fraudes em transações de cartão de crédito, incluindo Random Forest, XGBoost, Redes Neurais e um modelo híbrido. Aplicamos balanceamento de dados (SMOTE), seleção de features e validação cruzada para garantir um modelo robusto e eficiente.\n",
        "\n",
        "📈 Principais Resultados\n",
        "Os testes realizados mostraram altíssimo desempenho dos modelos em identificar fraudes, com destaque para o modelo híbrido (Random Forest + XGBoost):\n",
        "1️⃣ Modelos Individuais - Dados Balanceados\n",
        "- Random Forest: Acurácia 0.99, Recall 0.98, F1-score 0.99.\n",
        "- XGBoost: Acurácia 1.00, Recall 1.00, F1-score 1.00.\n",
        "- Rede Neural: Acurácia 1.00, Recall 1.00, F1-score 1.00.\n",
        "2️⃣ Modelos Individuais - Dados Reais (Desbalanceados)\n",
        "- Random Forest: Acurácia 0.91, Recall 0.83 → Pequena queda na detecção de fraudes.\n",
        "- XGBoost: Acurácia 0.92, Recall 0.84 → Melhor adaptação ao conjunto real.\n",
        "- Rede Neural: Acurácia 0.90, Recall 0.80 → Mais sensível ao desbalanceamento.\n",
        "3️⃣ Modelo Híbrido - Desempenho Superior\n",
        "- Acurácia em Dados Balanceados: 1.00\n",
        "- Acurácia em Dados Reais: 1.00\n",
        "- Recall em fraudes: 0.95 → Melhor recuperação de fraudes que os modelos individuais.\n",
        "🚀 O modelo híbrido demonstrou ser a melhor abordagem para detectar fraudes, mantendo um equilíbrio entre precisão e recall!\n",
        "\n",
        "🔎 Interpretação dos Resultados\n",
        "✔ O modelo híbrido superou os individuais, combinando a capacidade interpretável do Random Forest com o alto desempenho do XGBoost.\n",
        "✔ Os testes com SMOTE mostraram alta estabilidade, sugerindo que o balanceamento dos dados funcionou bem.\n",
        "✔ O modelo se manteve robusto nos dados reais, indicando que pode ser utilizado em cenários produtivos sem perdas significativas na detecção de fraudes.\n",
        "\n",
        "🚀 Conclusões e Próximos Passos\n",
        "🔹 Random Forest + XGBoost se provou a melhor estratégia, garantindo alta precisão e recuperação de fraudes.\n",
        "🔹 Os resultados mostraram pouca variação entre treino e teste, indicando que o modelo não sofre de overfitting.\n",
        "\n"
      ],
      "metadata": {
        "id": "a0NwjQG3N9Bg"
      }
    }
  ]
}